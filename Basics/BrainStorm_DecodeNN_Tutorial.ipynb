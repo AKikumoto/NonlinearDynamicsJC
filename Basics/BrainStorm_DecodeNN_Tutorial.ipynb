{
 "cells": [
  {
   "cell_type": "code",
   "execution_count": 1,
   "metadata": {},
   "outputs": [
    {
     "name": "stdout",
     "output_type": "stream",
     "text": [
      "DIR_HERE\t F\t datasets\t nn\t np\t optim\t os\t plt\t pp\t \n",
      "summary\t sys\t torch\t transforms\t \n"
     ]
    }
   ],
   "source": [
    "# BrainStrom 2022\n",
    "# Tutorial for classification with Neural nework (Feedforward network)\n",
    "# Resources:\n",
    "# - Linear layer: https://pytorch.org/docs/stable/generated/torch.nn.Linear.html\n",
    "# AK, June-26-2022\n",
    "# =========================================================================\n",
    "%reset -f\n",
    "import os, sys\n",
    "from pprint import pprint as pp\n",
    "\n",
    "# Define paths \n",
    "DIR_HERE = os.path.dirname(os.path.realpath(\"__file__\"))\n",
    "sys.path.append('../Others')\n",
    "\n",
    "# Load basic modules \n",
    "import numpy as np\n",
    "import matplotlib.pyplot as plt\n",
    "\n",
    "# Load PyTorch modules\n",
    "import torch\n",
    "import torch.nn as nn\n",
    "import torch.nn.functional as F\n",
    "import torch.optim as optim\n",
    "from torchinfo import summary\n",
    "from torchvision import datasets, transforms\n",
    "\n",
    "%who"
   ]
  },
  {
   "cell_type": "code",
   "execution_count": 6,
   "metadata": {},
   "outputs": [],
   "source": [
    "# General note\n",
    "# =========================================================================\n",
    "# Keep in mind that classification analyses typically take the following basic steps\n",
    "# Step1: Prepare data\n",
    "# - load or simulate features data (e.g., EEG) and target label\n",
    "# - slit data to test sets and training set\n",
    "# - (for real studies, this is the hardest step)\n",
    "# \n",
    "# Step2: Fit model\n",
    "# - do model specific optimization \n",
    "# - do cross validation\n",
    "# - check hyper-parameters \n",
    "# \n",
    "# Step3: Evaluate results\n",
    "# - yay, this is fun!"
   ]
  },
  {
   "cell_type": "code",
   "execution_count": 2,
   "metadata": {},
   "outputs": [
    {
     "name": "stdout",
     "output_type": "stream",
     "text": [
      "Device used: cpu\n"
     ]
    }
   ],
   "source": [
    "# -----------------------------\n",
    "# Step0: Before we start... \n",
    "# -----------------------------\n",
    "\n",
    "# What is MNIST dataset?\n",
    "# http://yann.lecun.com/exdb/mnist/\n",
    "\n",
    "# Check GPU availability\n",
    "device = torch.device(\"cuda\" if torch.cuda.is_available() else \"cpu\")\n",
    "print(\"Device used:\", device)\n"
   ]
  },
  {
   "cell_type": "code",
   "execution_count": 3,
   "metadata": {},
   "outputs": [],
   "source": [
    "# -----------------------------\n",
    "# Step1: Prepare data\n",
    "# -----------------------------\n",
    "\n",
    "# Define \"transform\", which adjusts data \n",
    "# https://pytorch.org/vision/stable/generated/torchvision.transforms.ToTensor.html\n",
    "transform = transforms.Compose(\n",
    "    [transforms.ToTensor(),                      # [H, W, C] -> [C, H, W]\n",
    "     transforms.Normalize((0.5, ), (0.5, ))])    # normalize (mean =.5, sd = .5)\n",
    "\n",
    "\n",
    "# Load (download for the first run) MNIST data\n",
    "# Each image (C = channel, H = height, W = width) = (1, 28, 28) = 784 pixels\n",
    "# https://pytorch.org/vision/stable/generated/torchvision.datasets.MNIST.html#torchvision.datasets.MNIST\n",
    "\n",
    "#Train data (channel, height, width) = (1,28,28) 60000 images\n",
    "train_dataset = datasets.MNIST(root='./data', \n",
    "                                        train = True, # Get training dataset\n",
    "                                        download = True,\n",
    "                                        transform = transform)\n",
    "\n",
    "#Test data (channel, height, width) = (1,28,28) 10000 images\n",
    "test_dataset = datasets.MNIST(root='./data', \n",
    "                                        train = False, # Get test dataset\n",
    "                                        download = True, \n",
    "                                        transform = transform)\n",
    "\n",
    "\n",
    "\n",
    "# Data too large?\n",
    "# RandomSubsetSampler"
   ]
  },
  {
   "cell_type": "code",
   "execution_count": 6,
   "metadata": {},
   "outputs": [
    {
     "name": "stdout",
     "output_type": "stream",
     "text": [
      "image size =  torch.Size([1, 28, 28])\n",
      "labels =  5\n"
     ]
    },
    {
     "data": {
      "text/plain": [
       "Text(0.5, 1.0, 'Label = 5')"
      ]
     },
     "execution_count": 6,
     "metadata": {},
     "output_type": "execute_result"
    },
    {
     "data": {
      "image/png": "[encoded data removed]",
      "text/plain": [
       "<Figure size 432x288 with 1 Axes>"
      ]
     },
     "metadata": {
      "needs_background": "light"
     },
     "output_type": "display_data"
    }
   ],
   "source": [
    "# Checking data and iteractor behavior\n",
    "batch_iterator = iter(train_dataset) \n",
    "image, label = next(batch_iterator) \n",
    "print(\"image size = \", image.size())\n",
    "print(\"labels = \", label)\n",
    "\n",
    "plt.imshow(image[0].numpy().reshape(28,28), cmap='gray')\n",
    "plt.title(\"Label = %d\" % (label))"
   ]
  },
  {
   "cell_type": "code",
   "execution_count": 7,
   "metadata": {},
   "outputs": [
    {
     "name": "stdout",
     "output_type": "stream",
     "text": [
      "========================================================================================\n",
      "Layer (type:depth-idx)                   Kernel Shape     Output Shape     Param #\n",
      "========================================================================================\n",
      "Net                                      --               [60, 10]         --\n",
      "├─Linear: 1-1                            --               [60, 100]        78,500\n",
      "│    └─weight                            [784, 100]                        ├─78,400\n",
      "│    └─bias                              [100]                             └─100\n",
      "├─Linear: 1-2                            --               [60, 50]         5,050\n",
      "│    └─weight                            [100, 50]                         ├─5,000\n",
      "│    └─bias                              [50]                              └─50\n",
      "├─Linear: 1-3                            --               [60, 10]         510\n",
      "│    └─weight                            [50, 10]                          ├─500\n",
      "│    └─bias                              [10]                              └─10\n",
      "========================================================================================\n",
      "Total params: 84,060\n",
      "Trainable params: 84,060\n",
      "Non-trainable params: 0\n",
      "Total mult-adds (M): 5.04\n",
      "========================================================================================\n",
      "Input size (MB): 0.19\n",
      "Forward/backward pass size (MB): 0.08\n",
      "Params size (MB): 0.34\n",
      "Estimated Total Size (MB): 0.60\n",
      "========================================================================================\n"
     ]
    }
   ],
   "source": [
    "# -----------------------------\n",
    "# Step 2: Define model\n",
    "# -----------------------------\n",
    "\n",
    "\n",
    "#------------------------------\n",
    "# Define hyperparameters\n",
    "n_epochs = 5            # how many times to repeat learning epochs\n",
    "n_batch = 60            # how many examples to give in one epoch\n",
    "learning_rate = .001    # learning rate of the oprimizer\n",
    "im_witdh = 28           # width of image\n",
    "im_height = 28          # heigh of image\n",
    "output_size = 10        # number of target (i.e., unique hand-written numbers)\n",
    "# image_size = np.prod(imges[0].numpy().shape)\n",
    "\n",
    "# Layer properties\n",
    "n_units_hidden0 = 100   # number of hidden units of hidden layer 0\n",
    "n_units_hidden1 = 50    # number of hidden units of hidden layer 1\n",
    "\n",
    "#------------------------------\n",
    "# Define neural network model (dense feedforward network)\n",
    "class Net(nn.Module):\n",
    "    def __init__(self, input_size, n_units_hidden0, n_units_hidden1, output_size):\n",
    "        # Initialize module\n",
    "        super(Net, self).__init__()\n",
    "        self.input_size = input_size\n",
    "\n",
    "        # Prepare fully connected (affine) layers (input, hidden, output)\n",
    "        self.fc1 = nn.Linear(input_size, n_units_hidden0)\n",
    "        self.fc2 = nn.Linear(n_units_hidden0, n_units_hidden1)\n",
    "        self.fc3 = nn.Linear(n_units_hidden1, output_size)\n",
    "\n",
    "    def forward(self, x):\n",
    "        # Transorm data to 1 dimensional format\n",
    "        x = x.view(-1, self.input_size)      # (Batch, 28, 28) -> (Batch, 784)\n",
    "        \n",
    "        # Connect layers and pass on to activation functions  \n",
    "        x = F.relu(self.fc1(x))         # (Batch, 784) -> (Batch, 100)\n",
    "        x = F.relu(self.fc2(x))         # (Batch, 100) -> (Batch, 100)\n",
    "        x = self.fc3(x)                 # (Batch, 100) -> (Batch, 10)\n",
    "        return x\n",
    "    \n",
    "# Instantiate model\n",
    "model = Net(im_witdh * im_height, n_units_hidden0, n_units_hidden1, output_size).to(device)\n",
    "summary(model, (n_batch, im_witdh * im_height), verbose = 2, col_width=16, col_names=[\"kernel_size\", \"output_size\", \"num_params\"])\n",
    "\n",
    "#------------------------------\n",
    "# Define loss function\n",
    "# CrossEntropyLoss = softmax + cross entropy error\n",
    "criterion = nn.CrossEntropyLoss()\n",
    "\n",
    "#------------------------------\n",
    "# Define optimier\n",
    "optimizer = optim.Adam(model.parameters(), lr=learning_rate)\n",
    "\n",
    "\n",
    "#------------------------------\n",
    "# Define data loader, which generates batch efficiently in PyTorch\n",
    "# https://pytorch.org/tutorials/beginner/basics/data_tutorial.html\n",
    "# https://blog.paperspace.com/dataloaders-abstractions-pytorch/\n",
    "\n",
    "# Data loader for training\n",
    "train_dataloader = torch.utils.data.DataLoader(train_dataset,\n",
    "                                            batch_size = n_batch,\n",
    "                                            shuffle = True)\n",
    "\n",
    "#Data loader for testing\n",
    "test_dataloader = torch.utils.data.DataLoader(test_dataset, \n",
    "                                            batch_size = 10,\n",
    "                                            shuffle = False)"
   ]
  },
  {
   "cell_type": "code",
   "execution_count": 8,
   "metadata": {},
   "outputs": [
    {
     "name": "stdout",
     "output_type": "stream",
     "text": [
      "Epoch: 1/5, Loss: 0.39983721923828125, Acc: 0.8819333333333333\n",
      "Epoch: 2/5, Loss: 0.19092579650878908, Acc: 0.9423166666666667\n",
      "Epoch: 3/5, Loss: 0.14204977416992187, Acc: 0.9563166666666667\n",
      "Epoch: 4/5, Loss: 0.11457606506347656, Acc: 0.9647\n",
      "Epoch: 5/5, Loss: 0.09771228790283203, Acc: 0.9687833333333333\n"
     ]
    }
   ],
   "source": [
    "# -----------------------------\n",
    "# Step 3: Train model\n",
    "# -----------------------------\n",
    "\n",
    "#------------------------------\n",
    "# change model as \"training mode\"\n",
    "model.train()  \n",
    "\n",
    "# Loop over n_epoch times\n",
    "for epoch in range(n_epochs): \n",
    "    loss_sum = 0\n",
    "    acc_sum = 0\n",
    "\n",
    "    for inputs, labels in train_dataloader:        \n",
    "        # CPU/GPU stuff (don't worry)\n",
    "        inputs = inputs.to(device)\n",
    "        labels = labels.to(device)\n",
    "\n",
    "        # Initialize gradient of optimizer\n",
    "        optimizer.zero_grad()\n",
    "\n",
    "        # Forward path\n",
    "        outputs = model(inputs)\n",
    "        \n",
    "        # Calculate loss: difference between output and label\n",
    "        loss = criterion(outputs, labels)\n",
    "        \n",
    "        # Keep track of the progress of learning\n",
    "        loss_sum += loss\n",
    "        _, preds = torch.max(outputs, 1) # prediction = max softmax output\n",
    "        acc_sum += torch.sum(preds == labels.data)\n",
    "\n",
    "        # Backward path (Backpropagation!)\n",
    "        loss.backward()\n",
    "\n",
    "        # Update weights\n",
    "        optimizer.step()\n",
    "\n",
    "    # Display learning progress\n",
    "    epoch_loss = loss_sum.item() / len(train_dataloader) # cumulative loss/ batch size\n",
    "    epoch_acc = acc_sum.double() / len(train_dataloader.dataset) # cummlative count of correct prediction / data size\n",
    "    print(f\"Epoch: {epoch+1}/{n_epochs}, Loss: {epoch_loss}, Acc: {epoch_acc}\")\n",
    "\n",
    "    # Save trained weights?\n",
    "    #torch.save(model.state_dict(), 'model_weights.pth')"
   ]
  },
  {
   "cell_type": "code",
   "execution_count": 9,
   "metadata": {},
   "outputs": [
    {
     "data": {
      "image/png": "[encoded data removed]",
      "text/plain": [
       "<Figure size 1440x1440 with 10 Axes>"
      ]
     },
     "metadata": {
      "needs_background": "light"
     },
     "output_type": "display_data"
    }
   ],
   "source": [
    "# Step 4: Evaluate model\n",
    "# -----------------------------\n",
    "\n",
    "# Prepare test data to handle easily \n",
    "batch_iterator = iter(test_dataloader) # Make iterator out ot test_dataloader\n",
    "images, labels = next(batch_iterator)  # Get first group of test batch\n",
    "model.eval()  # change model as \"evaluating mode\"\n",
    "\n",
    "# Make predictions to one test batch\n",
    "with torch.set_grad_enabled(False):    # stop calculating gradient (stop learning)\n",
    "    outputs = model(images)            # forward path\n",
    "    _, preds = torch.max(outputs, 1)   # make prediction (take max of softmax function)\n",
    "\n",
    "    \n",
    "# Plot predicted label and correct label\n",
    "_, axs = plt.subplots(5, 2, figsize=(20, 20))\n",
    "axs = axs.flatten()\n",
    "\n",
    "for i in range(len(preds)): \n",
    "    axs[i].imshow(images[i].numpy().reshape(28,28), cmap='gray')\n",
    "    axs[i].title.set_text(\"Label: Target={}, Prediction={}\".format(labels[i].numpy(), preds[i].numpy()))\n",
    "    \n",
    "\n",
    "plt.show()"
   ]
  }
 ],
 "metadata": {
  "kernelspec": {
   "display_name": "Python 3 (ipykernel)",
   "language": "python",
   "name": "python3"
  },
  "language_info": {
   "codemirror_mode": {
    "name": "ipython",
    "version": 3
   },
   "file_extension": ".py",
   "mimetype": "text/x-python",
   "name": "python",
   "nbconvert_exporter": "python",
   "pygments_lexer": "ipython3",
   "version": "3.9.7"
  }
 },
 "nbformat": 4,
 "nbformat_minor": 4
}
